{
 "cells": [
  {
   "cell_type": "code",
   "execution_count": null,
   "metadata": {},
   "outputs": [],
   "source": [
    "import pandas as pd\n",
    "from global_land_mask import globe\n",
    "\n",
    "dff = pd.read_csv(\"grouped0125no0j.csv\")\n",
    "dff = dff.drop(dff.columns[[0]],axis = 1)\n",
    "dff = dff.drop(dff[dff.Longitude > 180].index)\n",
    "dff = dff.drop(dff[globe.is_land(dff.Latitude, dff.Longitude)].index)\n",
    "\n",
    "dff"
   ]
  },
  {
   "cell_type": "code",
   "execution_count": null,
   "metadata": {},
   "outputs": [],
   "source": [
    "import pandas as pd\n",
    "\n",
    "middleEast = dff.copy()\n",
    "middleEast = middleEast[(middleEast['Latitude'] < 50) & (middleEast['Latitude'] > 29)] \n",
    "middleEast = middleEast[(middleEast['Longitude'] > -5) & (middleEast['Longitude'] < 36)]\n",
    "middleEast = middleEast.drop(middleEast[((middleEast['Latitude'] > 40.625) & (middleEast['Longitude'] > 26.625))].index)\n",
    "middleEast = middleEast.drop(middleEast[((middleEast['Latitude'] > 43) & (middleEast['Longitude'] < 2))].index)\n",
    "middleEast['latlong'] = middleEast['Latitude'].astype(\"string\")+','+middleEast['Longitude'].astype(\"string\")\n",
    "middleEast[\"power_mean\"] = middleEast[\"power_mean\"].astype(int)\n",
    "middleEast[\"power_max\"] = middleEast[\"power_max\"].astype(int)\n",
    "middleEast"
   ]
  },
  {
   "cell_type": "code",
   "execution_count": null,
   "metadata": {},
   "outputs": [],
   "source": [
    "#Create a mediterranean density map\n",
    "#https://plotly.com/python-api-reference/generated/plotly.express.density_mapbox.html\n",
    "import plotly.express as px\n",
    "\n",
    "fig = px.density_mapbox(middleEast, lat='Latitude', lon='Longitude', z='lightning_count', radius=7,\n",
    "                        center=dict(lat=38, lon=14), \n",
    "                        title=\"Lightning density over the mediterranean per 0.125 degrees squared | Dec.,Jan.,Feb. 2009-2020\",\n",
    "                        hover_name='latlong',\n",
    "                        zoom=3.5,\n",
    "                        hover_data={\"lightning_count\":True, \"power_max\":True,'power_mean':True,'Latitude':False,'Longitude':False,'Month':False},\n",
    "                        mapbox_style=\"open-street-map\",\n",
    "                        width=1400,\n",
    "                        height=800,\n",
    "                        opacity=1,\n",
    "                        range_color=[1,middleEast[\"lightning_count\"].max()],\n",
    "                        labels={'lightning_count':'Lightning Count','power_max':'Strongest Lightning (J)','power_mean':'Average Lightning Power (J)'},\n",
    "                        animation_frame='Month')\n",
    "fig.write_html(\"ME-Map water only.html\")"
   ]
  },
  {
   "cell_type": "code",
   "execution_count": null,
   "metadata": {},
   "outputs": [],
   "source": [
    "import pandas as pd\n",
    "\n",
    "globalMap = dff.copy()\n",
    "globalMap['latlong'] = globalMap['Latitude'].astype(\"string\")+','+globalMap['Longitude'].astype(\"string\")\n",
    "globalMap = globalMap[(globalMap['lightning_count'] > 1)] \n",
    "globalMap = globalMap[(globalMap['Latitude'] < 50)] \n",
    "globalMap"
   ]
  },
  {
   "cell_type": "code",
   "execution_count": null,
   "metadata": {},
   "outputs": [],
   "source": [
    "#Create a global density map\n",
    "#https://plotly.com/python-api-reference/generated/plotly.express.density_mapbox.html\n",
    "import plotly.express as px\n",
    "\n",
    "fig = px.density_mapbox(globalMap, lat='Latitude', lon='Longitude', z='lightning_count', radius=7,\n",
    "                        center=dict(lat=30, lon=0), \n",
    "                        title=\"Lightning density over water worldwide per 1 degree squared | Dec.,Jan.,Feb. 2009-2010\",\n",
    "                        hover_name='latlong',\n",
    "                        zoom=1,\n",
    "                        hover_data={\"lightning_count\":True, \"power_max\":True,'power_mean':True,'Latitude':False,'Longitude':False,'Month':False},\n",
    "                        mapbox_style=\"open-street-map\",\n",
    "                        width=1400,\n",
    "                        height=800,\n",
    "                        opacity=1,\n",
    "                        range_color=[1,globalMap[\"lightning_count\"].max()],\n",
    "                        labels={'lightning_count':'Lightning Count','power_max':'Strongest Lightning (J)','power_mean':'Average Lightning Power (J)'},\n",
    "                        animation_frame='Month')\n",
    "fig.write_html(\"GlobalMap 1 water only.html\")"
   ]
  }
 ],
 "metadata": {
  "kernelspec": {
   "display_name": "base",
   "language": "python",
   "name": "python3"
  },
  "language_info": {
   "codemirror_mode": {
    "name": "ipython",
    "version": 3
   },
   "file_extension": ".py",
   "mimetype": "text/x-python",
   "name": "python",
   "nbconvert_exporter": "python",
   "pygments_lexer": "ipython3",
   "version": "3.9.13"
  },
  "orig_nbformat": 4,
  "vscode": {
   "interpreter": {
    "hash": "921ee4a5eeec02d3b18f412f1510aa95e8883028d6166775805519bba15bc762"
   }
  }
 },
 "nbformat": 4,
 "nbformat_minor": 2
}
