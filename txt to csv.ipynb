{
 "cells": [
  {
   "cell_type": "code",
   "execution_count": 6,
   "metadata": {},
   "outputs": [],
   "source": [
    "#for txt(loc) files\n",
    "\n",
    "from os import listdir\n",
    "from os.path import isfile, join\n",
    "onlyfiles = [f for f in listdir(\"F:/Datasets/DJF2014-15/\") if isfile(join(\"F:/Datasets/DJF2014-15/\", f))]\n",
    "\n",
    "import pandas as pd\n",
    "concat = None\n",
    "for x in range(len(onlyfiles)):\n",
    "    text_file = pd.read_table('../DJF2014-15/'+str(onlyfiles[x]), sep=',', names=['Date','Time','Latitude','Longitude','resid','nstn','Power (J)','pUncertainty','nstn_power'])\n",
    "    columns_to_keep = ['Date', 'Time','Latitude','Longitude','nstn','Power (J)','pUncertainty']\n",
    "    text_file = text_file.loc[:, columns_to_keep]\n",
    "    concat = pd.concat([concat, text_file], ignore_index=True)\n",
    "#concat = concat[(concat[\"nstn\"]>6)&(concat[\"Power (J)\"]*0.3>concat[\"pUncertainty\"])]\n",
    "concat.to_csv('../Hard Drive/DJF2014-15.csv')\n",
    "concat = concat[(concat[\"nstn\"]>6)&(concat[\"Power (J)\"]*0.3>concat[\"pUncertainty\"])]\n",
    "concat.to_csv('../Hard Drive/DJF2014-15 HW.csv')"
   ]
  },
  {
   "cell_type": "code",
   "execution_count": 4,
   "metadata": {},
   "outputs": [],
   "source": [
    "concat.to_csv('DJF2020-2022.csv')"
   ]
  },
  {
   "cell_type": "code",
   "execution_count": 6,
   "metadata": {},
   "outputs": [],
   "source": [
    "#for mat files\n",
    "\n",
    "from os import listdir\n",
    "from os.path import isfile, join\n",
    "onlyfiles = [f for f in listdir(\"F:/Datasets/DJF2020-21/\") if isfile(join(\"F:/Datasets/DJF2020-21/\", f))]\n",
    "\n",
    "import pandas as pd\n",
    "import pandas as pd\n",
    "from scipy.io import loadmat\n",
    "concat = None\n",
    "for x in range(len(onlyfiles)):\n",
    "    text_file = loadmat('../DJF2020-21/'+str(onlyfiles[x]))\n",
    "    data = text_file['data']\n",
    "    df = pd.DataFrame(data, columns=['Year','Month','Day','Hour','Minute','Second','Latitude','Longitude','resid','nsta','Power (J)','pUncertainty','nstn_power'])\n",
    "    concat = pd.concat([concat, df], ignore_index=True)\n",
    "concat['Date'] = concat[['Year', 'Month', 'Day']].apply(lambda x: f\"{int(round(x['Year']))}/{int(round(x['Month']))}/{int(round(x['Day']))}\", axis=1)\n",
    "concat = concat.drop(columns=['Year', 'Month', 'Day'])\n",
    "concat['Time'] = concat[['Hour', 'Minute', 'Second']].apply(lambda x: f\"{int(round(x['Hour'])):02d}:{int(round(x['Minute'])):02d}:{x['Second']:09.6f}\", axis=1)\n",
    "concat = concat.drop(columns=['Hour', 'Minute', 'Second'])\n",
    "columns = ['Date', 'Time', 'Latitude','Longitude','resid','nsta','Power (J)','pUncertainty','nstn_power']\n",
    "concat2 = pd.DataFrame(concat, columns=columns)\n",
    "concat2=concat2.rename(columns={'resid':'Uncertainty','nsta':'nstn'})\n",
    "#concat2 = concat2[(concat2[\"nstn\"]>6)&(concat2[\"Power (J)\"]*0.3>concat2[\"pUncertainty\"])]\n",
    "concat2.to_csv('2020-2021v2.csv')"
   ]
  }
 ],
 "metadata": {
  "kernelspec": {
   "display_name": "base",
   "language": "python",
   "name": "python3"
  },
  "language_info": {
   "codemirror_mode": {
    "name": "ipython",
    "version": 3
   },
   "file_extension": ".py",
   "mimetype": "text/x-python",
   "name": "python",
   "nbconvert_exporter": "python",
   "pygments_lexer": "ipython3",
   "version": "3.9.13"
  },
  "orig_nbformat": 4,
  "vscode": {
   "interpreter": {
    "hash": "921ee4a5eeec02d3b18f412f1510aa95e8883028d6166775805519bba15bc762"
   }
  }
 },
 "nbformat": 4,
 "nbformat_minor": 2
}
